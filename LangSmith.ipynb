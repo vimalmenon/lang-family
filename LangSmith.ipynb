{
 "cells": [
  {
   "cell_type": "markdown",
   "id": "45d2ffc8",
   "metadata": {},
   "source": [
    "## [LangSmith](https://smith.langchain.com/o/aa8cfe1a-75c1-4fff-bf0c-187edfa443ee/)\n",
    "\n",
    "- Monitoring is very important aspect of all application.\n",
    "- [LangSmith](https://smith.langchain.com/o/aa8cfe1a-75c1-4fff-bf0c-187edfa443ee/) allows to monitor all the LLM usage.\n",
    "- You need to set up some env variable to connect to LangSmith\n",
    "\n",
    "---"
   ]
  },
  {
   "cell_type": "markdown",
   "id": "ca6d9aa6",
   "metadata": {},
   "source": [
    "## Env Value\n",
    "```sh\n",
    "LANGSMITH_TRACING=true\n",
    "LANGSMITH_ENDPOINT=\"https://api.smith.langchain.com\"\n",
    "LANGSMITH_PROJECT=\"***\"\n",
    "LANGSMITH_API_KEY=\"***\"\n",
    "```\n",
    "\n",
    "---"
   ]
  }
 ],
 "metadata": {
  "language_info": {
   "name": "python"
  }
 },
 "nbformat": 4,
 "nbformat_minor": 5
}
