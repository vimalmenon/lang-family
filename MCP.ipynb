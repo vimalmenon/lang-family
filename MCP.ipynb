{
 "cells": [
  {
   "cell_type": "markdown",
   "id": "17349c5b",
   "metadata": {},
   "source": [
    "# Model Context Protocol (MCP)\n",
    "- Tools\n",
    "- Resources\n",
    "- Prompts\n",
    "- Samplings\n",
    "---\n",
    "#### MCP Server\n",
    "#### MCP Client\n",
    "---"
   ]
  },
  {
   "cell_type": "code",
   "execution_count": null,
   "id": "531977a2",
   "metadata": {},
   "outputs": [],
   "source": [
    "from langchain_mcp_adapters.client import MultiServerMCPClient\n",
    "\n",
    "client = MultiServerMCPClient(\n",
    "    {\n",
    "        \"math\": {\n",
    "            \"command\": \"python\",\n",
    "            # Make sure to update to the full absolute path to your math_server.py file\n",
    "            \"args\": [\"/path/to/math_server.py\"],\n",
    "            \"transport\": \"stdio\",\n",
    "        }\n",
    "    }\n",
    ")"
   ]
  }
 ],
 "metadata": {
  "kernelspec": {
   "display_name": "lang-family-py3.11",
   "language": "python",
   "name": "python3"
  },
  "language_info": {
   "name": "python",
   "version": "3.11.9"
  }
 },
 "nbformat": 4,
 "nbformat_minor": 5
}
