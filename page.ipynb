{
 "cells": [
  {
   "cell_type": "markdown",
   "id": "a2a096f0",
   "metadata": {},
   "source": [
    "## Welcome to Lang Tutorial\n",
    "- What is [LangChain](https://www.langchain.com/), [LangSmith](https://smith.langchain.com/o/aa8cfe1a-75c1-4fff-bf0c-187edfa443ee/) & [LangGraph](https://www.langchain.com/langgraph)\n",
    "- How to use these libraries\n",
    "- What are inside these libraries\n",
    "- MCP Service\n",
    "- How to use LangGraph\n",
    "\n",
    "### Links\n",
    "- [Jupyter Notebook](https://github.com/vimalmenon/lang-family/blob/main/page.ipynb)"
   ]
  },
  {
   "cell_type": "markdown",
   "id": "7483da8e",
   "metadata": {},
   "source": [
    "## Topics to Cover\n",
    "-  LangChain\n",
    "- LangSmith\n",
    "- LangGraph\n",
    "    - Create Workflow\n",
    "    - RAG\n",
    "    - DAGS\n",
    "    - Human In Loops\n",
    "    - Multi Agent\n",
    "- MCP Server\n"
   ]
  },
  {
   "cell_type": "markdown",
   "id": "325b129c",
   "metadata": {},
   "source": [
    "## Install Dependencies\n",
    "poetry install<br>\n",
    "or <br>\n",
    "pip install requirements.txt\n"
   ]
  },
  {
   "cell_type": "markdown",
   "id": "a1e07e4b",
   "metadata": {},
   "source": [
    "## Notes\n",
    "- LangChain\n",
    "- LangGraph"
   ]
  },
  {
   "cell_type": "markdown",
   "id": "eae076a6",
   "metadata": {},
   "source": [
    "## Set up Env values\n",
    "Check .env.sample"
   ]
  },
  {
   "cell_type": "code",
   "execution_count": null,
   "id": "a8075aee",
   "metadata": {},
   "outputs": [
    {
     "data": {
      "text/plain": [
       "True"
      ]
     },
     "execution_count": 19,
     "metadata": {},
     "output_type": "execute_result"
    }
   ],
   "source": [
    "## Load Env Value\n",
    "\n",
    "from dotenv import load_dotenv\n",
    "\n",
    "load_dotenv()"
   ]
  },
  {
   "cell_type": "markdown",
   "id": "e69906b2",
   "metadata": {},
   "source": [
    "# Lang Chain\n",
    "LangChain provides the basic tools to connect to LLM and other basic tools"
   ]
  },
  {
   "cell_type": "markdown",
   "id": "8dfda68e",
   "metadata": {},
   "source": [
    "##  How to Message\n",
    "- PromptTemplate : \n",
    "    - This looks like normal text\n",
    "    - This is old way\n",
    "- ChatPromptTemplate : \n",
    "    - This looks like chat conversation\n",
    "    - This is new way"
   ]
  },
  {
   "cell_type": "code",
   "execution_count": null,
   "id": "d112ea08",
   "metadata": {},
   "outputs": [
    {
     "name": "stdout",
     "output_type": "stream",
     "text": [
      "------------Normal Way-----------------------\n",
      "'Answer the user query in one line.\\n What is Gen AI?'\n",
      "------------LangChain way-----------------------\n",
      "StringPromptValue(text='Answer the user query in one line.\\nWhat is Gen AI?\\n')\n"
     ]
    }
   ],
   "source": [
    "## Prompt simple way\n",
    "import pprint\n",
    "\n",
    "print(\"------------Normal Way-----------------------\")\n",
    "prompt = \"Answer the user query in one line.\\n What is Gen AI?\"\n",
    "\n",
    "\n",
    "pprint.pprint(prompt)\n",
    "\n",
    "\n",
    "## LangChain way\n",
    "\n",
    "print(\"------------LangChain way-----------------------\")\n",
    "from langchain_core.prompts import PromptTemplate\n",
    "\n",
    "prompt = PromptTemplate(\n",
    "    template=\"Answer the user query in one line.\\n{query}\\n\",\n",
    "    input_variables=[\"query\"],\n",
    ")\n",
    "\n",
    "text_prompt = prompt.invoke({\"query\": \"What is Gen AI?\"})\n",
    "\n",
    "pprint.pprint(text_prompt)"
   ]
  },
  {
   "cell_type": "code",
   "execution_count": null,
   "id": "54fb8526",
   "metadata": {},
   "outputs": [
    {
     "name": "stdout",
     "output_type": "stream",
     "text": [
      "------------Normal Way-----------------------\n",
      "[('system',\n",
      "  'You are a helpful assistant that translates English to French. Translate '\n",
      "  'the user sentence.'),\n",
      " ('human', 'I love programming.')]\n",
      "------------LangChain way-----------------------\n",
      "================================\u001b[1m System Message \u001b[0m================================\n",
      "\n",
      "You are a helpful assistant that translates English to Hindi. Translate the user sentence.\n",
      "================================\u001b[1m Human Message \u001b[0m=================================\n",
      "\n",
      "I love programming.\n"
     ]
    }
   ],
   "source": [
    "## Chat Message simple way\n",
    "import pprint\n",
    "\n",
    "print(\"------------Normal Way-----------------------\")\n",
    "messages = [\n",
    "    (\n",
    "        \"system\",\n",
    "        \"You are a helpful assistant that translates English to French. Translate the user sentence.\",\n",
    "    ),\n",
    "    (\"human\", \"I love programming.\"),\n",
    "]\n",
    "\n",
    "pprint.pprint(messages)\n",
    "\n",
    "\n",
    "## LangChain way\n",
    "\n",
    "print(\"------------LangChain way-----------------------\")\n",
    "\n",
    "from langchain_core.prompts import ChatPromptTemplate, MessagesPlaceholder\n",
    "from langchain_core.messages import HumanMessage\n",
    "\n",
    "prompt_template = ChatPromptTemplate([\n",
    "    (\"system\", \"You are a helpful assistant that translates English to {language}. Translate the user sentence.\"),\n",
    "    MessagesPlaceholder(\"msgs\")\n",
    "])\n",
    "\n",
    "prompt_messages = prompt_template.invoke({\n",
    "    \"msgs\": [HumanMessage(content=\"I love programming.\")],\n",
    "    \"language\": \"Hindi\"\n",
    "})\n",
    "\n",
    "for message in prompt_messages.messages:\n",
    "    message.pretty_print()"
   ]
  },
  {
   "cell_type": "markdown",
   "id": "803bf781",
   "metadata": {},
   "source": [
    "## Integration with LLM\n",
    "- Different packages for integrating with different LLM's\n",
    "- [Chat Model](https://python.langchain.com/docs/integrations/chat/)"
   ]
  },
  {
   "cell_type": "code",
   "execution_count": 22,
   "id": "b9fe6acb",
   "metadata": {},
   "outputs": [],
   "source": [
    "## initialize DeepSeek LLM\n",
    "\n",
    "from langchain_deepseek import ChatDeepSeek\n",
    "\n",
    "deepseek_llm = ChatDeepSeek(\n",
    "    model=\"deepseek-chat\",\n",
    "    temperature=0,\n",
    "    max_tokens=None,\n",
    "    timeout=None,\n",
    "    max_retries=2,\n",
    ")"
   ]
  },
  {
   "cell_type": "code",
   "execution_count": null,
   "id": "1a6a0c7f",
   "metadata": {},
   "outputs": [],
   "source": [
    "## initialize OpenAI LLM\n",
    "\n",
    "from langchain_openai import ChatOpenAI\n",
    "\n",
    "openai_llm = ChatOpenAI(\n",
    "    model=\"gpt-4o\",\n",
    "    temperature=0,\n",
    "    max_tokens=None,\n",
    "    timeout=None,\n",
    "    max_retries=2,\n",
    ")"
   ]
  },
  {
   "cell_type": "markdown",
   "id": "715617dd",
   "metadata": {},
   "source": [
    "## How to execute LLM with message"
   ]
  },
  {
   "cell_type": "code",
   "execution_count": 24,
   "id": "b9290f31",
   "metadata": {},
   "outputs": [
    {
     "name": "stdout",
     "output_type": "stream",
     "text": [
      "==================================\u001b[1m Ai Message \u001b[0m==================================\n",
      "\n",
      "Gen AI is artificial intelligence that generates text, images, or other media using learned patterns.\n"
     ]
    }
   ],
   "source": [
    "## Calling LLM with text\n",
    "\n",
    "deepseek_msg = deepseek_llm.invoke(text_prompt)\n",
    "deepseek_msg.pretty_print()"
   ]
  },
  {
   "cell_type": "code",
   "execution_count": 25,
   "id": "d670776d",
   "metadata": {},
   "outputs": [
    {
     "name": "stdout",
     "output_type": "stream",
     "text": [
      "==================================\u001b[1m Ai Message \u001b[0m==================================\n",
      "\n",
      "मुझे प्रोग्रामिंग पसंद है।\n"
     ]
    }
   ],
   "source": [
    "## Invoke LLM with messages\n",
    "\n",
    "deepseek_msg = deepseek_llm.invoke(prompt_messages)\n",
    "deepseek_msg.pretty_print()"
   ]
  },
  {
   "cell_type": "markdown",
   "id": "79fbc7a3",
   "metadata": {},
   "source": [
    "## LangChain Expression Language (LCEL)"
   ]
  },
  {
   "cell_type": "code",
   "execution_count": 26,
   "id": "23b0312c",
   "metadata": {},
   "outputs": [
    {
     "name": "stdout",
     "output_type": "stream",
     "text": [
      "==================================\u001b[1m Ai Message \u001b[0m==================================\n",
      "\n",
      "J'adore programmer.\n"
     ]
    }
   ],
   "source": [
    "## Chaining\n",
    "\n",
    "deepseek_chained =  prompt_template | deepseek_llm\n",
    "\n",
    "deepseek_response = deepseek_chained.invoke({\n",
    "    \"msgs\": [HumanMessage(content=\"I love programming.\")],\n",
    "    \"language\": \"French\"\n",
    "})\n",
    "\n",
    "deepseek_response.pretty_print()\n"
   ]
  },
  {
   "cell_type": "markdown",
   "id": "2ae562a8",
   "metadata": {},
   "source": [
    "## LangSmith\n",
    "\n",
    "Monitoring is very important aspect of all application, So [LangSmith](https://smith.langchain.com/o/aa8cfe1a-75c1-4fff-bf0c-187edfa443ee/) allows to monitor all the LLM usage.\n",
    "\n",
    "\n",
    "##### [Note] : You need to set up some env variable to connect to LangSmith"
   ]
  },
  {
   "cell_type": "markdown",
   "id": "b3cc1535",
   "metadata": {},
   "source": [
    "### Tools\n",
    "- Tools allow LLM to connect to systems"
   ]
  },
  {
   "cell_type": "code",
   "execution_count": 27,
   "id": "6683a3d5",
   "metadata": {},
   "outputs": [
    {
     "name": "stdout",
     "output_type": "stream",
     "text": [
      "================================\u001b[1m System Message \u001b[0m================================\n",
      "\n",
      "You are a helpful assistant.\n",
      "================================\u001b[1m Human Message \u001b[0m=================================\n",
      "\n",
      "What is Vimal Menon email address.\n",
      "==================================\u001b[1m Ai Message \u001b[0m==================================\n",
      "Tool Calls:\n",
      "  check_email (call_0_ca1f944a-c77a-477e-8da6-da9083180bc3)\n",
      " Call ID: call_0_ca1f944a-c77a-477e-8da6-da9083180bc3\n",
      "  Args:\n",
      "    name: Vimal Menon\n",
      "=================================\u001b[1m Tool Message \u001b[0m=================================\n",
      "\n",
      "janedoe@example.com\n",
      "==================================\u001b[1m Ai Message \u001b[0m==================================\n",
      "\n",
      "Vimal Menon's email address is janedoe@example.com.\n"
     ]
    }
   ],
   "source": [
    "from langchain_core.prompts import ChatPromptTemplate, MessagesPlaceholder\n",
    "from langchain_core.messages import HumanMessage, ToolMessage\n",
    "from langchain.chat_models import init_chat_model\n",
    "from langchain_core.tools import tool\n",
    "\n",
    "## Setting up Tools\n",
    "@tool\n",
    "def check_email(name:str = None) -> str:\n",
    "    \"\"\"Use this tool to get users email address.\"\"\"\n",
    "    return \"janedoe@example.com\"\n",
    "\n",
    "## Initialize DeepSeek LLM\n",
    "deepseek_llm_init_chat = init_chat_model(model=\"deepseek-chat\")\n",
    "\n",
    "## Bind tools to the DeepSeek LLM\n",
    "deepseek_with_tools = deepseek_llm_init_chat.bind_tools([check_email])\n",
    "\n",
    "## Create a prompt template for the chat\n",
    "prompt_template = ChatPromptTemplate([\n",
    "    (\"system\", \"You are a helpful assistant.\"),\n",
    "    MessagesPlaceholder(\"msgs\")\n",
    "])\n",
    "prompt_messages = prompt_template.invoke({\n",
    "    \"msgs\": [HumanMessage(content=\"What is Vimal Menon email address.\")]\n",
    "})\n",
    "\n",
    "## Invoke the DeepSeek LLM with tools\n",
    "response = deepseek_with_tools.invoke(prompt_messages)\n",
    "prompt_messages.messages.append(response)\n",
    "for tool in response.tool_calls:\n",
    "    if tool[\"name\"] == \"check_email\":\n",
    "        tool_msg = check_email.invoke(tool[\"args\"])\n",
    "        prompt_messages.messages.append(ToolMessage(tool_msg, tool_call_id=tool[\"id\"]))\n",
    "response = deepseek_with_tools.invoke(prompt_messages)\n",
    "prompt_messages.messages.append(response)\n",
    "\n",
    "for message in prompt_messages.messages:\n",
    "    message.pretty_print()\n",
    "\n"
   ]
  },
  {
   "cell_type": "code",
   "execution_count": 28,
   "id": "e18000da",
   "metadata": {},
   "outputs": [
    {
     "name": "stdout",
     "output_type": "stream",
     "text": [
      "================================\u001b[1m System Message \u001b[0m================================\n",
      "\n",
      "You are a helpful assistant.\n",
      "================================\u001b[1m Human Message \u001b[0m=================================\n",
      "\n",
      "What is Vimal Menon email address.\n",
      "==================================\u001b[1m Ai Message \u001b[0m==================================\n",
      "Tool Calls:\n",
      "  check_email (call_0_ca1f944a-c77a-477e-8da6-da9083180bc3)\n",
      " Call ID: call_0_ca1f944a-c77a-477e-8da6-da9083180bc3\n",
      "  Args:\n",
      "    name: Vimal Menon\n",
      "=================================\u001b[1m Tool Message \u001b[0m=================================\n",
      "\n",
      "janedoe@example.com\n",
      "==================================\u001b[1m Ai Message \u001b[0m==================================\n",
      "\n",
      "Vimal Menon's email address is janedoe@example.com.\n",
      "==================================\u001b[1m Ai Message \u001b[0m==================================\n",
      "Tool Calls:\n",
      "  check_email (call_0_d4fa7dd5-9f95-4a14-bde7-199aa84d6da2)\n",
      " Call ID: call_0_d4fa7dd5-9f95-4a14-bde7-199aa84d6da2\n",
      "  Args:\n",
      "    name: Vimal Menon\n",
      "=================================\u001b[1m Tool Message \u001b[0m=================================\n",
      "\n",
      "janedoe@example.com\n",
      "==================================\u001b[1m Ai Message \u001b[0m==================================\n",
      "\n",
      "Vimal Menon's email address is janedoe@example.com. Let me know if you need any further assistance!\n"
     ]
    }
   ],
   "source": [
    "from langchain_core.prompts import ChatPromptTemplate, MessagesPlaceholder\n",
    "from langchain_core.messages import HumanMessage, ToolMessage\n",
    "from langchain.chat_models import init_chat_model\n",
    "from langchain_core.tools import tool\n",
    "\n",
    "## Setting up Tools\n",
    "@tool\n",
    "def check_email(name:str = None) -> str:\n",
    "    \"\"\"Use this tool to get users email address.\"\"\"\n",
    "    return \"janedoe@example.com\"\n",
    "\n",
    "## Initialize DeepSeek LLM\n",
    "deepseek_llm_init_chat = init_chat_model(model=\"deepseek-chat\")\n",
    "\n",
    "## Bind tools to the DeepSeek LLM\n",
    "deepseek_with_tools = deepseek_llm_init_chat.bind_tools([check_email])\n",
    "\n",
    "## Create a prompt template for the chat\n",
    "prompt_template = ChatPromptTemplate([\n",
    "    (\"system\", \"You are a helpful assistant.\"),\n",
    "    MessagesPlaceholder(\"msgs\")\n",
    "])\n",
    "\n",
    "## Chained the prompt and LLM\n",
    "chained = prompt_template | deepseek_with_tools\n",
    "\n",
    "## Invoke the DeepSeek LLM with tools\n",
    "response = chained.invoke({\n",
    "    \"msgs\": [HumanMessage(content=\"What is Vimal Menon email address.\")]\n",
    "})\n",
    "prompt_messages.messages.append(response)\n",
    "for tool in response.tool_calls:\n",
    "    if tool[\"name\"] == \"check_email\":\n",
    "        tool_msg = check_email.invoke(tool[\"args\"])\n",
    "        prompt_messages.messages.append(ToolMessage(tool_msg, tool_call_id=tool[\"id\"]))\n",
    "response = deepseek_with_tools.invoke(prompt_messages)\n",
    "prompt_messages.messages.append(response)\n",
    "\n",
    "for message in prompt_messages.messages:\n",
    "    message.pretty_print()\n",
    "\n",
    "\n"
   ]
  },
  {
   "cell_type": "code",
   "execution_count": 29,
   "id": "a2729693",
   "metadata": {},
   "outputs": [
    {
     "name": "stdout",
     "output_type": "stream",
     "text": [
      "==================================\u001b[1m Ai Message \u001b[0m==================================\n",
      "\n",
      "It looks like there might be some confusion—the email provided (janedoe@example.com) doesn't seem to match the name Vimal Menon, as \"Jane Doe\" is typically a placeholder name. Unfortunately, I don’t have access to personal email addresses for privacy reasons. \n",
      "\n",
      "If you're trying to reach Vimal Menon, I’d recommend checking professional networking platforms like LinkedIn or their organization's website for official contact information. Let me know if you'd like help crafting a professional outreach message!\n",
      "==================================\u001b[1m Ai Message \u001b[0m==================================\n",
      "\n",
      "Gen AI refers to generative artificial intelligence, which creates new content like text, images, or code based on input data.\n"
     ]
    }
   ],
   "source": [
    "deepseek_response = deepseek_llm.invoke(prompt_messages)\n",
    "deepseek_response.pretty_print()\n",
    "\n",
    "openai_response = deepseek_llm.invoke(text_prompt)\n",
    "openai_response.pretty_print()"
   ]
  },
  {
   "cell_type": "markdown",
   "id": "5bbf623f",
   "metadata": {},
   "source": [
    "## Links\n",
    "\n",
    "[Output Parser](https://python.langchain.com/docs/concepts/output_parsers/)"
   ]
  },
  {
   "cell_type": "code",
   "execution_count": 30,
   "id": "c1e22f2a",
   "metadata": {},
   "outputs": [
    {
     "data": {
      "text/plain": [
       "{'countries': [{'name': 'Japan', 'capital': 'Tokyo'},\n",
       "  {'name': 'China', 'capital': 'Beijing'},\n",
       "  {'name': 'India', 'capital': 'New Delhi'},\n",
       "  {'name': 'South Korea', 'capital': 'Seoul'},\n",
       "  {'name': 'Thailand', 'capital': 'Bangkok'}]}"
      ]
     },
     "execution_count": 30,
     "metadata": {},
     "output_type": "execute_result"
    }
   ],
   "source": [
    "## Chaining of PromptTemplate\n",
    "\n",
    "from langchain.output_parsers.json import SimpleJsonOutputParser\n",
    "from langchain_core.prompts import PromptTemplate\n",
    "\n",
    "json_parser = SimpleJsonOutputParser()\n",
    "\n",
    "prompt = PromptTemplate(\n",
    "    template=\"Answer the user query and give the response back in json.\\n{query}\\n\",\n",
    "    input_variables=[\"query\"],\n",
    ")\n",
    "\n",
    "deepseek_chained =  prompt | deepseek_llm | json_parser\n",
    "\n",
    "deepseek_response = deepseek_chained.invoke({\n",
    "    \"query\": \"List out 5 countries in Asia and their capitals.\"\n",
    "})\n",
    "\n",
    "deepseek_response"
   ]
  },
  {
   "cell_type": "markdown",
   "id": "8f16e122",
   "metadata": {},
   "source": [
    "## LangGraph\n",
    "\n",
    "Why we need LangGraph. LangGraph makes tool calling simple"
   ]
  },
  {
   "cell_type": "code",
   "execution_count": 31,
   "id": "c7a6bbd1",
   "metadata": {},
   "outputs": [
    {
     "name": "stdout",
     "output_type": "stream",
     "text": [
      "================================\u001b[1m Human Message \u001b[0m=================================\n",
      "\n",
      "What is Vimal Menon's email address.\n",
      "==================================\u001b[1m Ai Message \u001b[0m==================================\n",
      "Tool Calls:\n",
      "  check_email (call_0_db18b2f2-7b09-401f-82b1-7968b8dfd819)\n",
      " Call ID: call_0_db18b2f2-7b09-401f-82b1-7968b8dfd819\n",
      "  Args:\n",
      "    name: Vimal Menon\n",
      "=================================\u001b[1m Tool Message \u001b[0m=================================\n",
      "Name: check_email\n",
      "\n",
      "janedoe@example.com\n",
      "==================================\u001b[1m Ai Message \u001b[0m==================================\n",
      "\n",
      "Vimal Menon's email address is janedoe@example.com.\n"
     ]
    }
   ],
   "source": [
    "\n",
    "from langgraph.prebuilt import create_react_agent\n",
    "from langchain.chat_models import init_chat_model\n",
    "from langchain_deepseek import ChatDeepSeek\n",
    "\n",
    "\n",
    "deepseek_llm = init_chat_model(model=\"deepseek-chat\")\n",
    "\n",
    "agent = create_react_agent(deepseek_llm, [check_email])\n",
    "\n",
    "prompt_template = ChatPromptTemplate([\n",
    "    (\"system\", \"You are a helpful assistant.\"),\n",
    "    MessagesPlaceholder(\"msgs\")\n",
    "])\n",
    "\n",
    "\n",
    "prompt_messages = prompt_template.invoke({\n",
    "    \"msgs\": [HumanMessage(content=\"What is Vimal Menon's email address.\")]\n",
    "})\n",
    "\n",
    "for step in agent.stream(prompt_messages, stream_mode=\"values\"):\n",
    "    step[\"messages\"][-1].pretty_print()"
   ]
  },
  {
   "cell_type": "markdown",
   "id": "13795574",
   "metadata": {},
   "source": [
    "## Create a workflow\n",
    "- Created workflow\n",
    "- DAGS\n",
    "- RAGS\n",
    "- HumanInLoop\n",
    "- Memory\n"
   ]
  },
  {
   "cell_type": "code",
   "execution_count": 32,
   "id": "3faba367",
   "metadata": {},
   "outputs": [
    {
     "data": {
      "image/png": "[encoded data removed]",
      "text/plain": [
       "<IPython.core.display.Image object>"
      ]
     },
     "metadata": {},
     "output_type": "display_data"
    }
   ],
   "source": [
    "from langgraph.graph import StateGraph, START, END\n",
    "from IPython.display import Image, display\n",
    "from typing_extensions import TypedDict\n",
    "\n",
    "# Graph state\n",
    "class State(TypedDict):\n",
    "    topic: str\n",
    "    joke: str\n",
    "    improved_joke: str\n",
    "    final_joke: str\n",
    "\n",
    "deepseek_llm = ChatDeepSeek(\n",
    "    model=\"deepseek-chat\",\n",
    "    temperature=0,\n",
    "    max_tokens=None,\n",
    "    timeout=None,\n",
    "    max_retries=2,\n",
    ")\n",
    "\n",
    "# Nodes\n",
    "def generate_joke(state: State):\n",
    "    \"\"\"First LLM call to generate initial joke\"\"\"\n",
    "\n",
    "    msg = deepseek_llm.invoke(f\"Write a short joke about {state['topic']}\")\n",
    "    return {\"joke\": msg.content}\n",
    "\n",
    "\n",
    "def check_punchline(state: State):\n",
    "    \"\"\"Gate function to check if the joke has a punchline\"\"\"\n",
    "\n",
    "    # Simple check - does the joke contain \"?\" or \"!\"\n",
    "    if \"?\" in state[\"joke\"] or \"!\" in state[\"joke\"]:\n",
    "        return \"Pass\"\n",
    "    return \"Fail\"\n",
    "\n",
    "\n",
    "def improve_joke(state: State):\n",
    "    \"\"\"Second LLM call to improve the joke\"\"\"\n",
    "\n",
    "    msg = deepseek_llm.invoke(f\"Make this joke funnier by adding wordplay: {state['joke']}\")\n",
    "    return {\"improved_joke\": msg.content}\n",
    "\n",
    "\n",
    "def polish_joke(state: State):\n",
    "    \"\"\"Third LLM call for final polish\"\"\"\n",
    "\n",
    "    msg = deepseek_llm.invoke(f\"Add a surprising twist to this joke: {state['improved_joke']}\")\n",
    "    return {\"final_joke\": msg.content}\n",
    "\n",
    "\n",
    "# Build workflow\n",
    "workflow = StateGraph(State)\n",
    "\n",
    "# Add nodes\n",
    "workflow.add_node(\"generate_joke\", generate_joke)\n",
    "workflow.add_node(\"improve_joke\", improve_joke)\n",
    "workflow.add_node(\"polish_joke\", polish_joke)\n",
    "\n",
    "# Add edges to connect nodes\n",
    "workflow.add_edge(START, \"generate_joke\")\n",
    "workflow.add_conditional_edges(\n",
    "    \"generate_joke\", check_punchline, {\"Fail\": \"improve_joke\", \"Pass\": END}\n",
    ")\n",
    "workflow.add_edge(\"improve_joke\", \"polish_joke\")\n",
    "workflow.add_edge(\"polish_joke\", END)\n",
    "\n",
    "# Compile\n",
    "chain = workflow.compile()\n",
    "\n",
    "# Show workflow\n",
    "display(Image(chain.get_graph().draw_mermaid_png()))"
   ]
  }
 ],
 "metadata": {
  "kernelspec": {
   "display_name": "lang-family-py3.11",
   "language": "python",
   "name": "python3"
  },
  "language_info": {
   "codemirror_mode": {
    "name": "ipython",
    "version": 3
   },
   "file_extension": ".py",
   "mimetype": "text/x-python",
   "name": "python",
   "nbconvert_exporter": "python",
   "pygments_lexer": "ipython3",
   "version": "3.11.9"
  }
 },
 "nbformat": 4,
 "nbformat_minor": 5
}
