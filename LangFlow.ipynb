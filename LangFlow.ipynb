{
 "cells": [
  {
   "cell_type": "markdown",
   "id": "6f838456",
   "metadata": {},
   "source": [
    "# [LangFlow](https://www.langflow.org/)\n",
    "- LangFlow allows to create the workflow without much coding knowledge\n",
    "- It allows to drag and drop to create Workflow\n",
    "\n",
    "---"
   ]
  }
 ],
 "metadata": {
  "language_info": {
   "name": "python"
  }
 },
 "nbformat": 4,
 "nbformat_minor": 5
}
