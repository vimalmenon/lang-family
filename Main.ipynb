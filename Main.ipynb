{
 "cells": [
  {
   "cell_type": "markdown",
   "id": "c5122f60",
   "metadata": {},
   "source": [
    "# Lang Framework\n",
    "The Lang Framework empowers you to build Agentic AI with ease, offering a robust suite of tools to streamline your workflow. Whether you're integrating cutting-edge LLMs, leveraging powerful tools, or designing complex AI workflows, Lang has you covered!\n",
    "\n",
    "- **Frameworks**:\n",
    "  - [LangChain](https://github.com/vimalmenon/lang-family/blob/main/LangChain.ipynb) – Seamlessly connect and orchestrate LLMs, tools, and memory for dynamic AI applications.\n",
    "  - [LangSmith](https://github.com/vimalmenon/lang-family/blob/main/LangSmith.ipynb) – Debug, test, and monitor your AI agents like never before.\n",
    "  - [LangGraph](https://github.com/vimalmenon/lang-family/blob/main/LangGraph.ipynb) – Build and visualize sophisticated AI workflows with graph-based architectures.\n",
    "  - [LangFlow](https://github.com/vimalmenon/lang-family/blob/main/LangFlow.ipynb) – Design and prototype AI pipelines effortlessly with a drag-and-drop interface.\n",
    "  - [MCP](https://github.com/vimalmenon/lang-family/blob/main/MCP.ipynb) – Coordinate multiple AI agents for collaborative problem-solving.\n",
    "\n",
    "- **Alternative**:\n",
    "\t- [AutoGen](https://microsoft.github.io/autogen/stable//index.html)\n",
    "\t- [CrewAI](https://www.crewai.com/)\n",
    "\t- more...\n",
    "\n",
    "---"
   ]
  },
  {
   "cell_type": "markdown",
   "id": "3d73c6d9",
   "metadata": {},
   "source": [
    "## Install Dependencies\n",
    "poetry install<br>\n",
    "or <br>\n",
    "pip install requirements.txt\n",
    "\n",
    "---"
   ]
  },
  {
   "cell_type": "code",
   "execution_count": 1,
   "id": "9172b8f3",
   "metadata": {},
   "outputs": [
    {
     "data": {
      "text/plain": [
       "True"
      ]
     },
     "execution_count": 1,
     "metadata": {},
     "output_type": "execute_result"
    }
   ],
   "source": [
    "## Load Env Value\n",
    "\n",
    "from dotenv import load_dotenv\n",
    "\n",
    "load_dotenv()"
   ]
  }
 ],
 "metadata": {
  "kernelspec": {
   "display_name": "lang-family-py3.11",
   "language": "python",
   "name": "python3"
  },
  "language_info": {
   "codemirror_mode": {
    "name": "ipython",
    "version": 3
   },
   "file_extension": ".py",
   "mimetype": "text/x-python",
   "name": "python",
   "nbconvert_exporter": "python",
   "pygments_lexer": "ipython3",
   "version": "3.11.9"
  }
 },
 "nbformat": 4,
 "nbformat_minor": 5
}
