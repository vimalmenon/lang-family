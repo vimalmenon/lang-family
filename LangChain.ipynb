{
 "cells": [
  {
   "cell_type": "markdown",
   "id": "0c4780ab",
   "metadata": {},
   "source": [
    "# LangChain\n",
    "\n",
    "- What is LangChain?\n",
    "- Type of prompts:\n",
    "\t- Simple Prompt\n",
    "\t- Message Prompt\n",
    "- Initialize LLM\n",
    "- Execute a prompt with LLM\n",
    "- What's included in LangChain\n",
    "- LangChain Expression Language (LCEL)\n",
    "- AI Agent\n",
    "- Structured Output"
   ]
  },
  {
   "cell_type": "markdown",
   "id": "cd17324b",
   "metadata": {},
   "source": [
    "\n",
    "---\n",
    "## Simple Prompt in LangChain"
   ]
  },
  {
   "cell_type": "code",
   "execution_count": 1,
   "id": "8269fed5",
   "metadata": {},
   "outputs": [
    {
     "name": "stdout",
     "output_type": "stream",
     "text": [
      "------------Normal Way-----------------------\n",
      "'Answer the user query in one line.\\n What is Gen AI?'\n",
      "------------LangChain way-----------------------\n",
      "StringPromptValue(text='Answer the user query in one line.\\nWhat is Gen AI?\\n')\n"
     ]
    }
   ],
   "source": [
    "## Prompt simple way\n",
    "import pprint\n",
    "\n",
    "print(\"------------Normal Way-----------------------\")\n",
    "prompt = \"Answer the user query in one line.\\n What is Gen AI?\"\n",
    "\n",
    "\n",
    "pprint.pprint(prompt)\n",
    "\n",
    "\n",
    "## LangChain way\n",
    "\n",
    "print(\"------------LangChain way-----------------------\")\n",
    "from langchain_core.prompts import PromptTemplate\n",
    "\n",
    "prompt = PromptTemplate(\n",
    "    template=\"Answer the user query in one line.\\n{query}\\n\",\n",
    "    input_variables=[\"query\"],\n",
    ")\n",
    "\n",
    "text_prompt = prompt.invoke({\"query\": \"What is Gen AI?\"})\n",
    "\n",
    "pprint.pprint(text_prompt)"
   ]
  },
  {
   "cell_type": "markdown",
   "id": "10dba609",
   "metadata": {},
   "source": [
    "---\n",
    "## Message Prompt in LangChain\n",
    "This is new way of prompting in LLM. This follows simple chat like structure.\n",
    "```\n",
    "Me: How are you?\n",
    "LLM: I am fine.\n",
    "```"
   ]
  },
  {
   "cell_type": "code",
   "execution_count": 2,
   "id": "5c56195c",
   "metadata": {},
   "outputs": [
    {
     "name": "stdout",
     "output_type": "stream",
     "text": [
      "------------Normal Way-----------------------\n",
      "[('system',\n",
      "  'You are a helpful assistant that translates English to French. Translate '\n",
      "  'the user sentence.'),\n",
      " ('human', 'I love programming.')]\n",
      "------------LangChain way-----------------------\n",
      "================================\u001b[1m System Message \u001b[0m================================\n",
      "\n",
      "You are a helpful assistant that translates English to Hindi. Translate the user sentence.\n",
      "================================\u001b[1m Human Message \u001b[0m=================================\n",
      "\n",
      "I love programming.\n"
     ]
    }
   ],
   "source": [
    "## Chat Message simple way\n",
    "import pprint\n",
    "\n",
    "print(\"------------Normal Way-----------------------\")\n",
    "messages = [\n",
    "    (\n",
    "        \"system\",\n",
    "        \"You are a helpful assistant that translates English to French. Translate the user sentence.\",\n",
    "    ),\n",
    "    (\"human\", \"I love programming.\"),\n",
    "]\n",
    "\n",
    "pprint.pprint(messages)\n",
    "\n",
    "\n",
    "## LangChain way\n",
    "\n",
    "print(\"------------LangChain way-----------------------\")\n",
    "\n",
    "from langchain_core.prompts import ChatPromptTemplate, MessagesPlaceholder\n",
    "from langchain_core.messages import HumanMessage\n",
    "\n",
    "prompt_template = ChatPromptTemplate([\n",
    "    (\"system\", \"You are a helpful assistant that translates English to {language}. Translate the user sentence.\"),\n",
    "    MessagesPlaceholder(\"msgs\")\n",
    "])\n",
    "\n",
    "prompt_messages = prompt_template.invoke({\n",
    "    \"msgs\": [HumanMessage(content=\"I love programming.\")],\n",
    "    \"language\": \"Hindi\"\n",
    "})\n",
    "\n",
    "for message in prompt_messages.messages:\n",
    "    message.pretty_print()"
   ]
  },
  {
   "cell_type": "markdown",
   "id": "e76a4a8e",
   "metadata": {},
   "source": [
    "---\n",
    "## Initialize LLM\n",
    "- LangChain provides different packages for integrating with different LLM's. \n",
    "- List can be seen in [Chat Model](https://python.langchain.com/docs/integrations/chat/)\n",
    "- Not all Chat Model support all the feature, so make sure you check if it's supported before using it."
   ]
  },
  {
   "cell_type": "code",
   "execution_count": 3,
   "id": "fe69c048",
   "metadata": {},
   "outputs": [],
   "source": [
    "## initialize DeepSeek LLM\n",
    "\n",
    "from langchain_deepseek import ChatDeepSeek\n",
    "\n",
    "deepseek_llm = ChatDeepSeek(\n",
    "    model=\"deepseek-chat\",\n",
    "    temperature=0,\n",
    "    max_tokens=None,\n",
    "    timeout=None,\n",
    "    max_retries=2,\n",
    ")"
   ]
  },
  {
   "cell_type": "code",
   "execution_count": 4,
   "id": "1b96754a",
   "metadata": {},
   "outputs": [],
   "source": [
    "## initialize OpenAI LLM\n",
    "\n",
    "from langchain_openai import ChatOpenAI\n",
    "\n",
    "openai_llm = ChatOpenAI(\n",
    "    model=\"gpt-4o\",\n",
    "    temperature=0,\n",
    "    max_tokens=None,\n",
    "    timeout=None,\n",
    "    max_retries=2,\n",
    ")"
   ]
  },
  {
   "cell_type": "markdown",
   "id": "50e42d86",
   "metadata": {},
   "source": [
    "---\n",
    "## Execute a prompt with LLM"
   ]
  },
  {
   "cell_type": "code",
   "execution_count": 5,
   "id": "cf401adb",
   "metadata": {},
   "outputs": [
    {
     "name": "stdout",
     "output_type": "stream",
     "text": [
      "==================================\u001b[1m Ai Message \u001b[0m==================================\n",
      "\n",
      "Gen AI is artificial intelligence that generates new content like text, images, or code based on input data.\n"
     ]
    }
   ],
   "source": [
    "from langchain_core.prompts import PromptTemplate\n",
    "from langchain_deepseek import ChatDeepSeek\n",
    "\n",
    "\n",
    "# Initialize a simple prompt\n",
    "prompt = PromptTemplate(\n",
    "    template=\"Answer the user query in one line.\\n{query}\\n\",\n",
    "    input_variables=[\"query\"],\n",
    ")\n",
    "\n",
    "text_prompt = prompt.invoke({\"query\": \"What is Gen AI?\"})\n",
    "\n",
    "## initialize DeepSeek LLM\n",
    "deepseek_llm = ChatDeepSeek(\n",
    "    model=\"deepseek-chat\",\n",
    "    temperature=0,\n",
    "    max_tokens=None,\n",
    "    timeout=None,\n",
    "    max_retries=2,\n",
    ")\n",
    "\n",
    "## Execute a prompt with LLM\n",
    "response = deepseek_llm.invoke(text_prompt)\n",
    "response.pretty_print()"
   ]
  },
  {
   "cell_type": "code",
   "execution_count": 6,
   "id": "05081e42",
   "metadata": {},
   "outputs": [
    {
     "name": "stdout",
     "output_type": "stream",
     "text": [
      "==================================\u001b[1m Ai Message \u001b[0m==================================\n",
      "\n",
      "J'adore programmer.\n"
     ]
    }
   ],
   "source": [
    "from langchain_core.prompts import ChatPromptTemplate, MessagesPlaceholder\n",
    "from langchain_core.messages import HumanMessage\n",
    "\n",
    "# Initialize a chat prompt template\n",
    "prompt_template = ChatPromptTemplate([\n",
    "    (\"system\", \"You are a helpful assistant that translates English to {language}. Translate the user sentence.\"),\n",
    "    MessagesPlaceholder(\"msgs\")\n",
    "])\n",
    "\n",
    "prompt_messages = prompt_template.invoke({\n",
    "    \"msgs\": [HumanMessage(content=\"I love programming.\")],\n",
    "    \"language\": \"French\"\n",
    "})\n",
    "\n",
    "## initialize DeepSeek LLM\n",
    "deepseek_llm = ChatDeepSeek(\n",
    "    model=\"deepseek-chat\",\n",
    "    temperature=0,\n",
    "    max_tokens=None,\n",
    "    timeout=None,\n",
    "    max_retries=2,\n",
    ")\n",
    "\n",
    "## Execute a prompt with LLM\n",
    "response = deepseek_llm.invoke(prompt_messages)\n",
    "response.pretty_print()"
   ]
  },
  {
   "cell_type": "markdown",
   "id": "65e551b9",
   "metadata": {},
   "source": [
    "---\n",
    "## LangChain Expression Language (LCEL)\n",
    "LCEL allows to write more readable code."
   ]
  },
  {
   "cell_type": "code",
   "execution_count": 7,
   "id": "b45bbb52",
   "metadata": {},
   "outputs": [
    {
     "name": "stdout",
     "output_type": "stream",
     "text": [
      "==================================\u001b[1m Ai Message \u001b[0m==================================\n",
      "\n",
      "J'adore la programmation.\n"
     ]
    }
   ],
   "source": [
    "from langchain_core.prompts import ChatPromptTemplate, MessagesPlaceholder\n",
    "from langchain_core.messages import HumanMessage\n",
    "from langchain_deepseek import ChatDeepSeek\n",
    "\n",
    "# Initialize a chat prompt template\n",
    "prompt_template = ChatPromptTemplate([\n",
    "    (\"system\", \"You are a helpful assistant that translates English to {language}. Translate the user sentence.\"),\n",
    "    MessagesPlaceholder(\"msgs\")\n",
    "])\n",
    "\n",
    "# prompt_messages = prompt_template.invoke({\n",
    "#     \"msgs\": [HumanMessage(content=\"I love programming.\")],\n",
    "#     \"language\": \"French\"\n",
    "# })\n",
    "\n",
    "## initialize DeepSeek LLM\n",
    "deepseek_llm = ChatDeepSeek(\n",
    "    model=\"deepseek-chat\",\n",
    "    temperature=0,\n",
    "    max_tokens=None,\n",
    "    timeout=None,\n",
    "    max_retries=2,\n",
    ")\n",
    "\n",
    "chained_LLM  = prompt_template | deepseek_llm\n",
    "\n",
    "## Execute a prompt with LLM\n",
    "response = chained_LLM.invoke({\n",
    "    \"msgs\": [HumanMessage(content=\"I love programming.\")],\n",
    "    \"language\": \"French\"\n",
    "})\n",
    "response.pretty_print()"
   ]
  },
  {
   "cell_type": "markdown",
   "id": "af8af8dd",
   "metadata": {},
   "source": [
    "---\n",
    "## AI Agent\n",
    "- AI agent can not only use it's knowledge to answer the question, but it can also act on some task. \n",
    "- LLM can be equipped with many tools can perform tasks\n",
    "- Check support for tool calling before using with LLM\n",
    "- There are some open source [Tools](https://python.langchain.com/docs/integrations/tools/) available"
   ]
  },
  {
   "cell_type": "code",
   "execution_count": 8,
   "id": "6659e10f",
   "metadata": {},
   "outputs": [
    {
     "name": "stdout",
     "output_type": "stream",
     "text": [
      "================================\u001b[1m System Message \u001b[0m================================\n",
      "\n",
      "You are a helpful assistant.\n",
      "================================\u001b[1m Human Message \u001b[0m=================================\n",
      "\n",
      "What is Vimal Menon email address.\n",
      "==================================\u001b[1m Ai Message \u001b[0m==================================\n",
      "Tool Calls:\n",
      "  check_email (call_0_662834ab-cf90-4e64-8e29-d164c29a7c13)\n",
      " Call ID: call_0_662834ab-cf90-4e64-8e29-d164c29a7c13\n",
      "  Args:\n",
      "    name: Vimal Menon\n",
      "=================================\u001b[1m Tool Message \u001b[0m=================================\n",
      "\n",
      "janedoe@example.com\n",
      "==================================\u001b[1m Ai Message \u001b[0m==================================\n",
      "\n",
      "The email address for Vimal Menon is janedoe@example.com.\n"
     ]
    }
   ],
   "source": [
    "from langchain_core.prompts import ChatPromptTemplate, MessagesPlaceholder\n",
    "from langchain_core.messages import HumanMessage, ToolMessage\n",
    "from langchain_deepseek import ChatDeepSeek\n",
    "from langchain_core.tools import tool\n",
    "\n",
    "## Setting up Tools\n",
    "@tool\n",
    "def check_email(name:str = None) -> str:\n",
    "    \"\"\"Use this tool to get users email address.\"\"\"\n",
    "    return \"janedoe@example.com\"\n",
    "\n",
    "## Initialize DeepSeek LLM\n",
    "deepseek_llm = ChatDeepSeek(\n",
    "    model=\"deepseek-chat\",\n",
    "    temperature=0,\n",
    "    max_tokens=None,\n",
    "    timeout=None,\n",
    "    max_retries=2,\n",
    ")\n",
    "\n",
    "## Bind tools to the DeepSeek LLM\n",
    "deepseek_with_tools = deepseek_llm.bind_tools([check_email])\n",
    "\n",
    "## Create a prompt template for the chat\n",
    "prompt_template = ChatPromptTemplate([\n",
    "    (\"system\", \"You are a helpful assistant.\"),\n",
    "    MessagesPlaceholder(\"msgs\")\n",
    "])\n",
    "prompt_messages = prompt_template.invoke({\n",
    "    \"msgs\": [HumanMessage(content=\"What is Vimal Menon email address.\")]\n",
    "})\n",
    "\n",
    "## Invoke the DeepSeek LLM with tools\n",
    "response = deepseek_with_tools.invoke(prompt_messages)\n",
    "prompt_messages.messages.append(response)\n",
    "for tool in response.tool_calls:\n",
    "    if tool[\"name\"] == \"check_email\":\n",
    "        tool_msg = check_email.invoke(tool[\"args\"])\n",
    "        prompt_messages.messages.append(ToolMessage(tool_msg, tool_call_id=tool[\"id\"]))\n",
    "response = deepseek_with_tools.invoke(prompt_messages)\n",
    "prompt_messages.messages.append(response)\n",
    "\n",
    "for message in prompt_messages.messages:\n",
    "    message.pretty_print()\n"
   ]
  },
  {
   "cell_type": "markdown",
   "id": "66fbe1f4",
   "metadata": {},
   "source": [
    "---\n",
    "## Structured Output"
   ]
  },
  {
   "cell_type": "code",
   "execution_count": null,
   "id": "b3065bba",
   "metadata": {},
   "outputs": [
    {
     "name": "stdout",
     "output_type": "stream",
     "text": [
      "CountryList(countries=[Country(name='China', capital='Beijing', population=1439323776, states=['Anhui', 'Fujian', 'Gansu', 'Guangdong', 'Guizhou', 'Hainan', 'Hebei', 'Heilongjiang', 'Henan', 'Hubei', 'Hunan', 'Jiangsu', 'Jiangxi', 'Jilin', 'Liaoning', 'Qinghai', 'Shaanxi', 'Shandong', 'Shanxi', 'Sichuan', 'Yunnan', 'Zhejiang']), Country(name='India', capital='New Delhi', population=1380004385, states=['Andhra Pradesh', 'Arunachal Pradesh', 'Assam', 'Bihar', 'Chhattisgarh', 'Goa', 'Gujarat', 'Haryana', 'Himachal Pradesh', 'Jharkhand', 'Karnataka', 'Kerala', 'Madhya Pradesh', 'Maharashtra', 'Manipur', 'Meghalaya', 'Mizoram', 'Nagaland', 'Odisha', 'Punjab', 'Rajasthan', 'Sikkim', 'Tamil Nadu', 'Telangana', 'Tripura', 'Uttar Pradesh', 'Uttarakhand', 'West Bengal']), Country(name='United States', capital='Washington, D.C.', population=331002651, states=['Alabama', 'Alaska', 'Arizona', 'Arkansas', 'California', 'Colorado', 'Connecticut', 'Delaware', 'Florida', 'Georgia', 'Hawaii', 'Idaho', 'Illinois', 'Indiana', 'Iowa', 'Kansas', 'Kentucky', 'Louisiana', 'Maine', 'Maryland', 'Massachusetts', 'Michigan', 'Minnesota', 'Mississippi', 'Missouri', 'Montana', 'Nebraska', 'Nevada', 'New Hampshire', 'New Jersey', 'New Mexico', 'New York', 'North Carolina', 'North Dakota', 'Ohio', 'Oklahoma', 'Oregon', 'Pennsylvania', 'Rhode Island', 'South Carolina', 'South Dakota', 'Tennessee', 'Texas', 'Utah', 'Vermont', 'Virginia', 'Washington', 'West Virginia', 'Wisconsin', 'Wyoming']), Country(name='Indonesia', capital='Jakarta', population=273523615, states=['Aceh', 'Bali', 'Banten', 'Bengkulu', 'Gorontalo', 'Jakarta', 'Jambi', 'Java', 'Kalimantan', 'Lampung', 'Maluku', 'North Maluku', 'North Sulawesi', 'North Sumatra', 'Papua', 'Riau', 'Riau Islands', 'South Sulawesi', 'South Sumatra', 'Southeast Sulawesi', 'West Java', 'West Kalimantan', 'West Nusa Tenggara', 'West Papua', 'West Sulawesi', 'West Sumatra']), Country(name='Pakistan', capital='Islamabad', population=220892340, states=['Balochistan', 'Gilgit-Baltistan', 'Islamabad Capital Territory', 'Khyber Pakhtunkhwa', 'Punjab', 'Sindh'])])\n"
     ]
    }
   ],
   "source": [
    "from langchain_core.prompts import ChatPromptTemplate, MessagesPlaceholder\n",
    "from langchain_core.messages import HumanMessage, ToolMessage\n",
    "from langchain_deepseek import ChatDeepSeek\n",
    "\n",
    "from pydantic import BaseModel, Field\n",
    "from pprint import pprint\n",
    "\n",
    "\n",
    "\n",
    "## Initialize DeepSeek LLM\n",
    "deepseek_llm = ChatDeepSeek(\n",
    "    model=\"deepseek-chat\",\n",
    "    temperature=0,\n",
    "    max_tokens=None,\n",
    "    timeout=None,\n",
    "    max_retries=2,\n",
    ")\n",
    "\n",
    "# Pydantic\n",
    "class Country(BaseModel):\n",
    "    \"\"\"List countries detail.\"\"\"\n",
    "    name: str = Field(description=\"The name of the country\")\n",
    "    capital: str = Field(description=\"The capital city of the country\")\n",
    "    population: int = Field(description=\"The population of the country\")\n",
    "    states: list[str] = Field(description=\"List the states in the country\")\n",
    "\n",
    "\n",
    "class CountryList(BaseModel):\n",
    "    \"\"\"List of countries.\"\"\"\t\t\n",
    "    countries: list[Country] = Field(description=\"List of countries with their capitals and populations\")\n",
    "\n",
    "\n",
    "deepseek_llm_with_output = deepseek_llm.with_structured_output(CountryList)\n",
    "\n",
    "## Create a prompt template for the chat\n",
    "prompt_template = ChatPromptTemplate([\n",
    "    (\"system\", \"You are a helpful assistant.\"),\n",
    "    MessagesPlaceholder(\"msgs\")\n",
    "])\n",
    "prompt_messages = prompt_template.invoke({\n",
    "    \"msgs\": [HumanMessage(content=\"List out top 5 countries as per their population.\")]\n",
    "})\n",
    "\n",
    "deepseek_response = deepseek_llm_with_output.invoke(prompt_messages)\n",
    "\n",
    "pprint(deepseek_response)"
   ]
  },
  {
   "cell_type": "code",
   "execution_count": null,
   "id": "01f6f24f",
   "metadata": {},
   "outputs": [],
   "source": []
  },
  {
   "cell_type": "code",
   "execution_count": 2,
   "id": "1146056e",
   "metadata": {},
   "outputs": [
    {
     "data": {
      "text/plain": [
       "'Is Societe Generale Group (SCGLY) Stock Undervalued Right Now? Zacks • 23 days ago\\xa0... Key figures, graphics and charts to better undersatnd the Societe Generale group share performance. Societe Generale SA GLE-FR:Euronext Paris · Open50.88 · Day High51.22 · Day Low50.48 · Prev Close51.04 · 52 Week High52.12 · 52 Week High Date07/10/25 · 52 Week\\xa0... Stock SOCIETE GENERALE Common Stock FR0000130809 XPAR Euronext Paris Live Euronext quotes, realtime prices, charts and regulated news. Societe Generale S.A. · 50.92 · Recently Viewed Tickers · GLE Overview · Key Data · Performance · Analyst Ratings · News From Dow Jones · Societe Generale S.A.. Stock analysis for Societe Generale SA (GLE:EN Paris) including stock price, stock chart, company news, key statistics, fundamentals and company profile. See the latest Societe Generale SA stock price (GLE:XPAR), related news, valuation, dividends and more to help you make your investing decisions. Societe Generale traded at 50.84 this Friday July 25th, decreasing 0.20 or 0.39 percent since the previous trading session. Looking back, over the last four\\xa0... The Societe Generale SA stock price today is 50.92. What Is the Stock Symbol for Societe Generale SA? The stock ticker symbol for Societe Generale SA is SOGN. Stock market orders ; \"At the best limit\" order. It is executed at the best price proposed when the order reaches the market. In the event of partial execution,\\xa0...'"
      ]
     },
     "execution_count": 2,
     "metadata": {},
     "output_type": "execute_result"
    }
   ],
   "source": [
    "from langchain_core.tools import Tool\n",
    "from langchain_google_community import GoogleSearchAPIWrapper\n",
    "\n",
    "\n",
    "\n",
    "search = GoogleSearchAPIWrapper()\n",
    "\n",
    "tool = Tool(\n",
    "    name=\"google_search\",\n",
    "    description=\"Search Google for recent results.\",\n",
    "    func=search.run,\n",
    ")\n",
    "\n",
    "tool.run(\"What is SocGen stock price?\")\n",
    "\n"
   ]
  },
  {
   "cell_type": "code",
   "execution_count": 11,
   "id": "de325d9a",
   "metadata": {},
   "outputs": [
    {
     "name": "stdout",
     "output_type": "stream",
     "text": [
      "================================\u001b[1m Human Message \u001b[0m=================================\n",
      "\n",
      "What is the stock price of SocGen and convert into HKD?.\n",
      "==================================\u001b[1m Ai Message \u001b[0m==================================\n",
      "Tool Calls:\n",
      "  google_search (call_0_0b6cc163-4f53-4a2f-9484-9e39027ecfda)\n",
      " Call ID: call_0_0b6cc163-4f53-4a2f-9484-9e39027ecfda\n",
      "  Args:\n",
      "    __arg1: Societe Generale stock price\n",
      "=================================\u001b[1m Tool Message \u001b[0m=================================\n",
      "Name: google_search\n",
      "\n",
      "Find the latest Société Générale Société anonyme (GLE.PA) stock quote, history, news and other vital information to help you with your stock trading and ... Key figures, graphics and charts to better undersatnd the Societe Generale group share performance. Societe Generale SA GLE-FR:Euronext Paris · Open50.88 · Day High51.22 · Day Low50.48 · Prev Close51.04 · 52 Week High52.12 · 52 Week High Date07/10/25 · 52 Week ... Stock analysis for Societe Generale SA (GLE:EN Paris) including stock price, stock chart, company news, key statistics, fundamentals and company profile. Stock SOCIETE GENERALE Common Stock FR0000130809 XPAR Euronext Paris Live Euronext quotes, realtime prices, charts and regulated news. Societe Generale S.A. · 50.92 · Recently Viewed Tickers · GLE Overview · Key Data · Performance · Analyst Ratings · News From Dow Jones · Societe Generale S.A.. IMPORTANT: Societe Generale Securities Services would like to inform you that maintenance is planned on Saturday 26 of July and on Sunday 27 of July. During ... Societe Generale traded at 50.84 this Friday July 25th, decreasing 0.20 or 0.39 percent since the previous trading session. Looking back, over the last four ... Get Societe Generale SA (SOGN.PA) real-time stock quotes, news, price and financial information from Reuters to inform your trading and investments. See the latest Societe Generale SA stock price (GLE:XPAR), related news, valuation, dividends and more to help you make your investing decisions.\n",
      "==================================\u001b[1m Ai Message \u001b[0m==================================\n",
      "Tool Calls:\n",
      "  google_search (call_0_1cd42255-1615-4769-9dbc-51b5e99c7c5a)\n",
      " Call ID: call_0_1cd42255-1615-4769-9dbc-51b5e99c7c5a\n",
      "  Args:\n",
      "    __arg1: EUR to HKD exchange rate\n",
      "=================================\u001b[1m Tool Message \u001b[0m=================================\n",
      "Name: google_search\n",
      "\n",
      "Hong Kong dollar (HKD). ECB euro reference exchange rate. 25 July 2025. EUR 1 = HKD 9.2027 -0.0256(-0.3%). Change from 25 July 2024 to 25 July 2025. Min (13 ... +8.38%. (1Y). 1 EUR = 9.21373 HKD. Jul 23, 2025, 04:14 UTC. Jul 2024 Nov 2024 Jan 2025 Apr 2025 Jul 2025 ... Our interactive EUR to HKD chart use real-time mid-market exchange rates and allow you to view historical data up to the last 5 years. Current exchange rate EURO (EUR) to HONG KONG DOLLAR (HKD) including currency converter, buying & selling rate and historical conversion chart. Find the latest EUR/HKD (EURHKD=X) currency exchange rate, plus historical data, charts, relevant news and more. EURO - EUR; FALKLAND ISLAND POUND - FKP; FIJI DOLLAR - FJD; GAMBIA DALASI - GMD ... HONG KONG DOLLAR - HKD; HUNGARIAN FORINT - HUF; ICELANDIC KRONA - ISK ... EUR, 839.19, 839.19, 845.34, 845.34, 840.01, 2025.07.26 10:30:00. GBP, 960.48, 960.48, 967.61, 967.61, 965.65, 2025.07.26 10:30:00. HKD, 91.19, 91.19, 91.55 ... EURO - EUR; FALKLAND ISLAND POUND - FKP; FIJI DOLLAR - FJD; GAMBIA DALASI - GMD ... HONG KONG DOLLAR - HKD; HUNGARIAN FORINT - HUF; ICELANDIC KRONA - ISK ... HSBC is providing the most updated preferential exchange rates of different major currencies including US dollar, Renminbi and Euro. Convert 1 Euros to to Hong Kong Dollars by excellent exchange rate in the USA today. Join 60+ million happy customers and avoid high fees when you convert 1 ...\n",
      "==================================\u001b[1m Ai Message \u001b[0m==================================\n",
      "\n",
      "The latest stock price of Société Générale (GLE.PA) is approximately €50.92. \n",
      "\n",
      "Using the current exchange rate of 1 EUR = 9.20 HKD (approximate), the stock price in HKD is:\n",
      "\n",
      "**50.92 EUR × 9.20 HKD/EUR ≈ 468.46 HKD** \n",
      "\n",
      "Let me know if you'd like further details or updates!\n",
      "The latest stock price of Société Générale (GLE.PA) is approximately €50.92. \n",
      "\n",
      "Using the current exchange rate of 1 EUR = 9.20 HKD (approximate), the stock price in HKD is:\n",
      "\n",
      "**50.92 EUR × 9.20 HKD/EUR ≈ 468.46 HKD** \n",
      "\n",
      "Let me know if you'd like further details or updates!\n"
     ]
    }
   ],
   "source": [
    "from langgraph.prebuilt import create_react_agent\n",
    "from langchain.chat_models import init_chat_model\n",
    "from langchain_deepseek import ChatDeepSeek\n",
    "from langchain_core.tools import Tool\n",
    "from langchain_google_community import GoogleSearchAPIWrapper\n",
    "from langchain_core.prompts import ChatPromptTemplate, MessagesPlaceholder\n",
    "from langchain_core.messages import HumanMessage, ToolMessage\n",
    "\n",
    "from pydantic import BaseModel, Field\n",
    "\n",
    "\n",
    "# Pydantic\n",
    "class StockItem(BaseModel):\n",
    "    \"\"\"Give the stock details.\"\"\"\n",
    "    name: str = Field(description=\"The name of the stock\")\n",
    "    price: float = Field(description=\"The price of the stock\")\n",
    "    price_in_hkd: float = Field(description=\"The price of the stock in hkd\")\n",
    "\n",
    "\n",
    "\n",
    "search = GoogleSearchAPIWrapper()\n",
    "\n",
    "tool = Tool(\n",
    "    name=\"google_search\",\n",
    "    description=\"Search Google for recent results.\",\n",
    "    func=search.run,\n",
    ")\n",
    "\n",
    "deepseek_llm = init_chat_model(model=\"deepseek-chat\")\n",
    "\n",
    "\n",
    "agent = create_react_agent(deepseek_llm, [tool])\n",
    "\n",
    "prompt_template = ChatPromptTemplate([\n",
    "    (\"system\", \"You are a helpful assistant.\"),\n",
    "    MessagesPlaceholder(\"msgs\"),\n",
    "])\n",
    "\n",
    "\n",
    "prompt_messages = prompt_template.invoke({\n",
    "    \"msgs\": [HumanMessage(content=\"What is the stock price of SocGen and convert into HKD?.\")]\n",
    "})\n",
    "\n",
    "last_msg = \"\"\n",
    "for step in agent.stream(prompt_messages, stream_mode=\"values\"):\n",
    "    step[\"messages\"][-1].pretty_print()\n",
    "    last_msg = step[\"messages\"][-1]\n",
    "\n",
    "\n",
    "print(last_msg.content)\n",
    "    \n"
   ]
  }
 ],
 "metadata": {
  "kernelspec": {
   "display_name": "lang-family-py3.11",
   "language": "python",
   "name": "python3"
  },
  "language_info": {
   "codemirror_mode": {
    "name": "ipython",
    "version": 3
   },
   "file_extension": ".py",
   "mimetype": "text/x-python",
   "name": "python",
   "nbconvert_exporter": "python",
   "pygments_lexer": "ipython3",
   "version": "3.11.9"
  }
 },
 "nbformat": 4,
 "nbformat_minor": 5
}
