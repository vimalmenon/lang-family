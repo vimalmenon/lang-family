{
 "cells": [
  {
   "cell_type": "markdown",
   "id": "a2a096f0",
   "metadata": {},
   "source": [
    "# Welcome to Lang Tutorial\n",
    "- What is Lang Chain\n",
    "- What is Lang Graph\n",
    "- What is Lang Smith\n",
    "- What is Lang Flow\n",
    "- MCP Service\n"
   ]
  },
  {
   "cell_type": "markdown",
   "id": "7fb68ff5",
   "metadata": {},
   "source": [
    "### Env Value\n",
    "```\n",
    "DEEPSEEK_API_KEY=\"***\"\n",
    "LANGSMITH_TRACING=true\n",
    "LANGSMITH_ENDPOINT=\"***\"\n",
    "LANGSMITH_API_KEY=\"***\"\n",
    "LANGSMITH_PROJECT=\"lang-family\"\n",
    "```\n",
    "\n",
    "---\n",
    "### Load Env Value"
   ]
  },
  {
   "cell_type": "code",
   "execution_count": 1,
   "id": "a8075aee",
   "metadata": {},
   "outputs": [
    {
     "data": {
      "text/plain": [
       "True"
      ]
     },
     "execution_count": 1,
     "metadata": {},
     "output_type": "execute_result"
    }
   ],
   "source": [
    "from dotenv import load_dotenv\n",
    "load_dotenv()"
   ]
  },
  {
   "cell_type": "markdown",
   "id": "325b129c",
   "metadata": {},
   "source": [
    "## Install Dependencies\n",
    "```\n",
    "pip install langchain\n",
    "pip install langchain-deepseek\n",
    "pip install langchain-openai\n",
    "```"
   ]
  },
  {
   "cell_type": "code",
   "execution_count": 2,
   "id": "b9fe6acb",
   "metadata": {},
   "outputs": [],
   "source": [
    "from langchain_deepseek import ChatDeepSeek\n",
    "\n",
    "llm = ChatDeepSeek(\n",
    "    model=\"deepseek-chat\",\n",
    "    temperature=0,\n",
    "    max_tokens=None,\n",
    "    timeout=None,\n",
    "    max_retries=2,\n",
    ")"
   ]
  },
  {
   "cell_type": "code",
   "execution_count": 3,
   "id": "d670776d",
   "metadata": {},
   "outputs": [
    {
     "data": {
      "text/plain": [
       "\"J'adore programmer.\""
      ]
     },
     "execution_count": 3,
     "metadata": {},
     "output_type": "execute_result"
    }
   ],
   "source": [
    "messages = [\n",
    "    (\n",
    "        \"system\",\n",
    "        \"You are a helpful assistant that translates English to French. Translate the user sentence.\",\n",
    "    ),\n",
    "    (\"human\", \"I love programming.\"),\n",
    "]\n",
    "ai_msg = llm.invoke(messages)\n",
    "ai_msg.content"
   ]
  }
 ],
 "metadata": {
  "kernelspec": {
   "display_name": ".venv",
   "language": "python",
   "name": "python3"
  },
  "language_info": {
   "codemirror_mode": {
    "name": "ipython",
    "version": 3
   },
   "file_extension": ".py",
   "mimetype": "text/x-python",
   "name": "python",
   "nbconvert_exporter": "python",
   "pygments_lexer": "ipython3",
   "version": "3.11.9"
  }
 },
 "nbformat": 4,
 "nbformat_minor": 5
}
